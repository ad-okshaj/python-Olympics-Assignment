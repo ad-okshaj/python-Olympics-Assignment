{
 "cells": [
  {
   "cell_type": "markdown",
   "metadata": {},
   "source": [
    "# Summer Olympics Data Analysis Assignment"
   ]
  },
  {
   "cell_type": "code",
   "execution_count": 2,
   "metadata": {},
   "outputs": [],
   "source": [
    "# General Code [Common code to all cells]\n",
    "import pandas as pd \n",
    "import numpy as np\n",
    "df = pd.read_csv(\"summer.csv\")\n",
    "#df"
   ]
  },
  {
   "cell_type": "markdown",
   "metadata": {},
   "source": [
    "### 1. In how many cities Summer Olympics is held so far?"
   ]
  },
  {
   "cell_type": "code",
   "execution_count": null,
   "metadata": {},
   "outputs": [],
   "source": [
    "print(str(len(df['City'].unique())) + ' cities so far.')"
   ]
  },
  {
   "cell_type": "markdown",
   "metadata": {},
   "source": [
    "### 2. Which sport is having most number of Gold Medals so far? (Top 5)"
   ]
  },
  {
   "cell_type": "code",
   "execution_count": null,
   "metadata": {},
   "outputs": [],
   "source": [
    "data = []\n",
    "for sport in goldonly['Sport'].unique():\n",
    "    data.append([sport, len(goldonly[goldonly['Sport'] == sport])])\n",
    "data = pd.DataFrame(data, columns=['Sport', 'Medal'])\n",
    "data = data.sort_values(by='Medal', ascending=False).head()\n",
    "data.plot(x='Sport', y='Medal', kind='bar', figsize=(5,5))"
   ]
  },
  {
   "cell_type": "markdown",
   "metadata": {},
   "source": [
    "### 3. Which sport is having most number of medals so far? (Top 5)"
   ]
  },
  {
   "cell_type": "code",
   "execution_count": null,
   "metadata": {},
   "outputs": [],
   "source": [
    "dict = {}\n",
    "for sport in df['Sport'].unique():\n",
    "    #print(sport, ':', len(df[df['Sport'] == sport]))\n",
    "    number = len(df[df['Sport'] == sport])\n",
    "    dict.update({sport: number})\n",
    "    \n",
    "maxsport = max(dict, key=dict.get)\n",
    "print(\"'{}'\".format(maxsport),'has the most number of Medals so far.')\n",
    "#dict\n",
    "\n",
    "## Alternative Code : For learning purposes ###\n",
    "\n",
    "data = []\n",
    "for sport in df['Sport'].unique():\n",
    "    data.append([sport, len(df[df['Sport'] == sport])])\n",
    "data = pd.DataFrame(data, columns=['Sport', 'Medal'])\n",
    "data = data.sort_values(by='Medal', ascending=False).head()\n",
    "data.plot(x='Sport', y='Medal', kind='bar', figsize=(5,5))"
   ]
  },
  {
   "cell_type": "markdown",
   "metadata": {},
   "source": [
    "### 4. Which player has won most number of medals? (Top 5)"
   ]
  },
  {
   "cell_type": "code",
   "execution_count": 11,
   "metadata": {},
   "outputs": [
    {
     "data": {
      "text/plain": [
       "<AxesSubplot:xlabel='Athlete'>"
      ]
     },
     "execution_count": 11,
     "metadata": {},
     "output_type": "execute_result"
    },
    {
     "data": {
      "image/png": "[encoded data removed]",
      "text/plain": [
       "<Figure size 360x360 with 1 Axes>"
      ]
     },
     "metadata": {
      "needs_background": "light"
     },
     "output_type": "display_data"
    }
   ],
   "source": [
    "data = []\n",
    "for athlete in df['Athlete'].unique():\n",
    "    data.append([athlete, len(df[df['Athlete'] == athlete])])\n",
    "data = pd.DataFrame(data, columns=['Athlete', 'Medal'])\n",
    "data = data.sort_values(by='Medal', ascending=False).head()\n",
    "data\n",
    "data.plot(x='Athlete', y='Medal', kind='bar', figsize=(5,5))"
   ]
  },
  {
   "cell_type": "markdown",
   "metadata": {},
   "source": [
    "### 5. Which player has won most number Gold Medals of medals? (Top 5)"
   ]
  },
  {
   "cell_type": "code",
   "execution_count": null,
   "metadata": {},
   "outputs": [],
   "source": []
  },
  {
   "cell_type": "markdown",
   "metadata": {},
   "source": [
    "### 6. In which year India won first Gold Medal in Summer Olympics?"
   ]
  },
  {
   "cell_type": "code",
   "execution_count": null,
   "metadata": {},
   "outputs": [],
   "source": []
  },
  {
   "cell_type": "markdown",
   "metadata": {},
   "source": [
    "### 7. Which event is most popular in terms on number of players? (Top 5)"
   ]
  },
  {
   "cell_type": "code",
   "execution_count": null,
   "metadata": {},
   "outputs": [],
   "source": []
  },
  {
   "cell_type": "markdown",
   "metadata": {},
   "source": [
    "### 8. Which sport is having most female Gold Medalists? (Top 5)"
   ]
  },
  {
   "cell_type": "code",
   "execution_count": null,
   "metadata": {},
   "outputs": [],
   "source": []
  }
 ],
 "metadata": {
  "kernelspec": {
   "display_name": "Python 3",
   "language": "python",
   "name": "python3"
  },
  "language_info": {
   "codemirror_mode": {
    "name": "ipython",
    "version": 3
   },
   "file_extension": ".py",
   "mimetype": "text/x-python",
   "name": "python",
   "nbconvert_exporter": "python",
   "pygments_lexer": "ipython3",
   "version": "3.8.8"
  }
 },
 "nbformat": 4,
 "nbformat_minor": 2
}
